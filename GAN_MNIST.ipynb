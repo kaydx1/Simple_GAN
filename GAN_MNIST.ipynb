{
  "nbformat": 4,
  "nbformat_minor": 0,
  "metadata": {
    "colab": {
      "provenance": [],
      "gpuType": "T4"
    },
    "kernelspec": {
      "name": "python3",
      "display_name": "Python 3"
    },
    "language_info": {
      "name": "python"
    },
    "accelerator": "GPU"
  },
  "cells": [
    {
      "cell_type": "code",
      "execution_count": 3,
      "metadata": {
        "id": "_9WEH3i21JhA"
      },
      "outputs": [],
      "source": [
        "import torch\n",
        "import numpy as np\n",
        "import matplotlib.pyplot as plt\n",
        "from torch import nn\n",
        "from torchsummary import summary\n",
        "from torchvision import datasets, transforms as T\n",
        "from torch.utils.data import DataLoader\n",
        "from torchvision.utils import make_grid\n",
        "from tqdm.notebook import tqdm"
      ]
    },
    {
      "cell_type": "code",
      "source": [
        "device = 'cuda'\n",
        "epochs = 20\n",
        "batch_size = 128\n",
        "noise_dimension = 64\n",
        "\n",
        "#Adam\n",
        "lr = 2e-4\n",
        "beta_1 = 0.5\n",
        "beta_2 = 0.999"
      ],
      "metadata": {
        "id": "ljj3Aalt-rGZ"
      },
      "execution_count": 24,
      "outputs": []
    },
    {
      "cell_type": "code",
      "source": [
        "train_augmentations = T.Compose([\n",
        "    T.RandomRotation((-20, +20)),\n",
        "    T.ToTensor(),\n",
        "    T.Normalize((0.5,), (0.5,))\n",
        "])"
      ],
      "metadata": {
        "id": "6ZX0VLIU-2Q-"
      },
      "execution_count": 5,
      "outputs": []
    },
    {
      "cell_type": "code",
      "source": [
        "trainset = datasets.MNIST('MNIST/', download=True, train=True, transform=train_augmentations)"
      ],
      "metadata": {
        "colab": {
          "base_uri": "https://localhost:8080/"
        },
        "id": "3FtKRIcZ-4uL",
        "outputId": "2a15c3a6-506d-4fa9-abeb-a4017e226338"
      },
      "execution_count": 6,
      "outputs": [
        {
          "output_type": "stream",
          "name": "stdout",
          "text": [
            "Downloading http://yann.lecun.com/exdb/mnist/train-images-idx3-ubyte.gz\n",
            "Downloading http://yann.lecun.com/exdb/mnist/train-images-idx3-ubyte.gz to MNIST/MNIST/raw/train-images-idx3-ubyte.gz\n"
          ]
        },
        {
          "output_type": "stream",
          "name": "stderr",
          "text": [
            "100%|██████████| 9912422/9912422 [00:00<00:00, 129774451.47it/s]"
          ]
        },
        {
          "output_type": "stream",
          "name": "stdout",
          "text": [
            "Extracting MNIST/MNIST/raw/train-images-idx3-ubyte.gz to MNIST/MNIST/raw\n"
          ]
        },
        {
          "output_type": "stream",
          "name": "stderr",
          "text": [
            "\n"
          ]
        },
        {
          "output_type": "stream",
          "name": "stdout",
          "text": [
            "\n",
            "Downloading http://yann.lecun.com/exdb/mnist/train-labels-idx1-ubyte.gz\n",
            "Downloading http://yann.lecun.com/exdb/mnist/train-labels-idx1-ubyte.gz to MNIST/MNIST/raw/train-labels-idx1-ubyte.gz\n"
          ]
        },
        {
          "output_type": "stream",
          "name": "stderr",
          "text": [
            "100%|██████████| 28881/28881 [00:00<00:00, 38057082.57it/s]\n"
          ]
        },
        {
          "output_type": "stream",
          "name": "stdout",
          "text": [
            "Extracting MNIST/MNIST/raw/train-labels-idx1-ubyte.gz to MNIST/MNIST/raw\n",
            "\n",
            "Downloading http://yann.lecun.com/exdb/mnist/t10k-images-idx3-ubyte.gz\n",
            "Downloading http://yann.lecun.com/exdb/mnist/t10k-images-idx3-ubyte.gz to MNIST/MNIST/raw/t10k-images-idx3-ubyte.gz\n"
          ]
        },
        {
          "output_type": "stream",
          "name": "stderr",
          "text": [
            "100%|██████████| 1648877/1648877 [00:00<00:00, 39642156.83it/s]"
          ]
        },
        {
          "output_type": "stream",
          "name": "stdout",
          "text": [
            "Extracting MNIST/MNIST/raw/t10k-images-idx3-ubyte.gz to MNIST/MNIST/raw\n"
          ]
        },
        {
          "output_type": "stream",
          "name": "stderr",
          "text": [
            "\n"
          ]
        },
        {
          "output_type": "stream",
          "name": "stdout",
          "text": [
            "\n",
            "Downloading http://yann.lecun.com/exdb/mnist/t10k-labels-idx1-ubyte.gz\n",
            "Downloading http://yann.lecun.com/exdb/mnist/t10k-labels-idx1-ubyte.gz to MNIST/MNIST/raw/t10k-labels-idx1-ubyte.gz\n"
          ]
        },
        {
          "output_type": "stream",
          "name": "stderr",
          "text": [
            "100%|██████████| 4542/4542 [00:00<00:00, 7227059.47it/s]\n"
          ]
        },
        {
          "output_type": "stream",
          "name": "stdout",
          "text": [
            "Extracting MNIST/MNIST/raw/t10k-labels-idx1-ubyte.gz to MNIST/MNIST/raw\n",
            "\n"
          ]
        }
      ]
    },
    {
      "cell_type": "code",
      "source": [
        "train_loader = DataLoader(trainset, batch_size=batch_size, shuffle=True)\n",
        "dataiter = iter(train_loader)\n",
        "images, _ = dataiter.__next__()\n",
        "print(images.shape)"
      ],
      "metadata": {
        "colab": {
          "base_uri": "https://localhost:8080/"
        },
        "id": "Vvz4ByPX-93T",
        "outputId": "a7b7b1da-5894-4681-822d-1461281d18c3"
      },
      "execution_count": 28,
      "outputs": [
        {
          "output_type": "stream",
          "name": "stdout",
          "text": [
            "torch.Size([128, 1, 28, 28])\n"
          ]
        }
      ]
    },
    {
      "cell_type": "code",
      "source": [
        "def show_images(tensor_img, num_images = 16, size=(1, 28, 28)):\n",
        "    unflat_img = tensor_img.detach().cpu()\n",
        "    img_grid = make_grid(unflat_img[:num_images], nrow=4)\n",
        "    plt.imshow(img_grid.permute(1, 2, 0).squeeze())\n",
        "    plt.show()"
      ],
      "metadata": {
        "id": "dJjvDOX5_Bb4"
      },
      "execution_count": 29,
      "outputs": []
    },
    {
      "cell_type": "code",
      "source": [
        "show_images(images, num_images = 16)"
      ],
      "metadata": {
        "colab": {
          "base_uri": "https://localhost:8080/",
          "height": 452
        },
        "id": "zyT3nM1r_DfG",
        "outputId": "bc0cd272-0083-4f2f-e1b9-6ed27fde924c"
      },
      "execution_count": 30,
      "outputs": [
        {
          "output_type": "stream",
          "name": "stderr",
          "text": [
            "WARNING:matplotlib.image:Clipping input data to the valid range for imshow with RGB data ([0..1] for floats or [0..255] for integers).\n"
          ]
        },
        {
          "output_type": "display_data",
          "data": {
            "text/plain": [
              "<Figure size 640x480 with 1 Axes>"
            ],
            "image/png": "[encoded data removed]"
          },
          "metadata": {}
        }
      ]
    },
    {
      "cell_type": "code",
      "source": [
        "def d_block(input_channels, output_channels, kernel_size, stride):\n",
        "  return nn.Sequential(\n",
        "      nn.Conv2d(input_channels, output_channels, kernel_size, stride),\n",
        "      nn.BatchNorm2d(output_channels),\n",
        "      nn.LeakyReLU(0.2)\n",
        "  )"
      ],
      "metadata": {
        "id": "vRP7O3z2_HAa"
      },
      "execution_count": 11,
      "outputs": []
    },
    {
      "cell_type": "code",
      "source": [
        "class Discriminator(nn.Module):\n",
        "  def __init__(self):\n",
        "    super(Discriminator, self).__init__()\n",
        "\n",
        "    self.block_1 = d_block(1, 16, (3, 3), 2)\n",
        "    self.block_2 = d_block(16, 32, (5, 5) , 2)\n",
        "    self.block_3 = d_block(32, 64, (5, 5), 2)\n",
        "\n",
        "    self.flatten = nn.Flatten()\n",
        "    self.linear = nn.Linear(64, 1)\n",
        "\n",
        "  def forward(self, images):\n",
        "\n",
        "    x1 = self.block_1(images)\n",
        "    x2 = self.block_2(x1)\n",
        "    x3 = self.block_3(x2)\n",
        "\n",
        "    x4 = self.flatten(x3)\n",
        "    x5 = self.linear(x4)\n",
        "\n",
        "    return x5"
      ],
      "metadata": {
        "id": "EPGwweXN_IxF"
      },
      "execution_count": 12,
      "outputs": []
    },
    {
      "cell_type": "code",
      "source": [
        "D = Discriminator()\n",
        "D.to(device)\n",
        "\n",
        "summary(D, input_size=(1,28,28))"
      ],
      "metadata": {
        "colab": {
          "base_uri": "https://localhost:8080/"
        },
        "id": "5egkzS_-_L5v",
        "outputId": "8a2a1336-b2bb-4120-928f-c04dbdb70aa8"
      },
      "execution_count": 13,
      "outputs": [
        {
          "output_type": "stream",
          "name": "stdout",
          "text": [
            "----------------------------------------------------------------\n",
            "        Layer (type)               Output Shape         Param #\n",
            "================================================================\n",
            "            Conv2d-1           [-1, 16, 13, 13]             160\n",
            "       BatchNorm2d-2           [-1, 16, 13, 13]              32\n",
            "         LeakyReLU-3           [-1, 16, 13, 13]               0\n",
            "            Conv2d-4             [-1, 32, 5, 5]          12,832\n",
            "       BatchNorm2d-5             [-1, 32, 5, 5]              64\n",
            "         LeakyReLU-6             [-1, 32, 5, 5]               0\n",
            "            Conv2d-7             [-1, 64, 1, 1]          51,264\n",
            "       BatchNorm2d-8             [-1, 64, 1, 1]             128\n",
            "         LeakyReLU-9             [-1, 64, 1, 1]               0\n",
            "          Flatten-10                   [-1, 64]               0\n",
            "           Linear-11                    [-1, 1]              65\n",
            "================================================================\n",
            "Total params: 64,545\n",
            "Trainable params: 64,545\n",
            "Non-trainable params: 0\n",
            "----------------------------------------------------------------\n",
            "Input size (MB): 0.00\n",
            "Forward/backward pass size (MB): 0.08\n",
            "Params size (MB): 0.25\n",
            "Estimated Total Size (MB): 0.33\n",
            "----------------------------------------------------------------\n"
          ]
        }
      ]
    },
    {
      "cell_type": "code",
      "source": [
        "def g_block(input_channels, output_channels, kernel_size, stride, last_block = False):\n",
        "  if (last_block):\n",
        "    return nn.Sequential(\n",
        "        nn.ConvTranspose2d(input_channels, output_channels, kernel_size, stride),\n",
        "        nn.Tanh()\n",
        "    )\n",
        "  else:\n",
        "    return nn.Sequential(\n",
        "        nn.ConvTranspose2d(input_channels, output_channels, kernel_size, stride),\n",
        "        nn.BatchNorm2d(output_channels),\n",
        "        nn.ReLU()\n",
        "    )"
      ],
      "metadata": {
        "id": "7e2PRjKS_Nck"
      },
      "execution_count": 14,
      "outputs": []
    },
    {
      "cell_type": "code",
      "source": [
        "class Generator(nn.Module):\n",
        "\n",
        "  def __init__(self, noice_dimension):\n",
        "    super(Generator, self).__init__()\n",
        "    self.noise_dimension = noise_dimension\n",
        "\n",
        "    self.block_1 = g_block(noise_dimension, 256, (3, 3), 1)\n",
        "    self.block_2 = g_block(256, 128, (4, 4), 1)\n",
        "    self.block_3 = g_block(128, 64, (3, 3), 2)\n",
        "\n",
        "    self.block_4 = g_block(64, 1, (4, 4), 2, last_block = True)\n",
        "\n",
        "  def forward(self, noise):\n",
        "    x = noise.view(-1, self.noise_dimension, 1, 1)\n",
        "\n",
        "    x1 = self.block_1(x)\n",
        "    x2 = self.block_2(x1)\n",
        "    x3 = self.block_3(x2)\n",
        "    x4 = self.block_4(x3)\n",
        "\n",
        "    return x4"
      ],
      "metadata": {
        "id": "GU2f4BAk_Pgt"
      },
      "execution_count": 17,
      "outputs": []
    },
    {
      "cell_type": "code",
      "source": [
        "G = Generator(noise_dimension)\n",
        "G.to(device)\n",
        "\n",
        "summary(G, input_size=(noise_dimension, 1, 1))"
      ],
      "metadata": {
        "colab": {
          "base_uri": "https://localhost:8080/"
        },
        "id": "BHbut-6L_RRq",
        "outputId": "e3ebc967-9728-47bf-bd90-76a488524ba4"
      },
      "execution_count": 18,
      "outputs": [
        {
          "output_type": "stream",
          "name": "stdout",
          "text": [
            "----------------------------------------------------------------\n",
            "        Layer (type)               Output Shape         Param #\n",
            "================================================================\n",
            "   ConvTranspose2d-1            [-1, 256, 3, 3]         147,712\n",
            "       BatchNorm2d-2            [-1, 256, 3, 3]             512\n",
            "              ReLU-3            [-1, 256, 3, 3]               0\n",
            "   ConvTranspose2d-4            [-1, 128, 6, 6]         524,416\n",
            "       BatchNorm2d-5            [-1, 128, 6, 6]             256\n",
            "              ReLU-6            [-1, 128, 6, 6]               0\n",
            "   ConvTranspose2d-7           [-1, 64, 13, 13]          73,792\n",
            "       BatchNorm2d-8           [-1, 64, 13, 13]             128\n",
            "              ReLU-9           [-1, 64, 13, 13]               0\n",
            "  ConvTranspose2d-10            [-1, 1, 28, 28]           1,025\n",
            "             Tanh-11            [-1, 1, 28, 28]               0\n",
            "================================================================\n",
            "Total params: 747,841\n",
            "Trainable params: 747,841\n",
            "Non-trainable params: 0\n",
            "----------------------------------------------------------------\n",
            "Input size (MB): 0.00\n",
            "Forward/backward pass size (MB): 0.42\n",
            "Params size (MB): 2.85\n",
            "Estimated Total Size (MB): 3.27\n",
            "----------------------------------------------------------------\n"
          ]
        }
      ]
    },
    {
      "cell_type": "code",
      "source": [
        "def weights_init(m):\n",
        "    if isinstance(m, nn.Conv2d) or isinstance(m, nn.ConvTranspose2d):\n",
        "        nn.init.normal_(m.weight, 0.0, 0.02)\n",
        "    if isinstance(m, nn.BatchNorm2d):\n",
        "        nn.init.normal_(m.weight, 0.0, 0.02)\n",
        "        nn.init.constant_(m.bias, 0)"
      ],
      "metadata": {
        "id": "O7zzu9lp_SwP"
      },
      "execution_count": 19,
      "outputs": []
    },
    {
      "cell_type": "code",
      "source": [
        "D = D.apply(weights_init)\n",
        "G = G.apply(weights_init)"
      ],
      "metadata": {
        "id": "1O7SVKO3_Ukz"
      },
      "execution_count": 20,
      "outputs": []
    },
    {
      "cell_type": "code",
      "source": [
        "def real_label(disc_pred):\n",
        "  criterion = nn.BCEWithLogitsLoss()\n",
        "  ground_truth = torch.ones_like(disc_pred)\n",
        "  loss = criterion(disc_pred, ground_truth)\n",
        "  return loss\n",
        "\n",
        "def fake_label(disc_pred):\n",
        "  criterion = nn.BCEWithLogitsLoss()\n",
        "  gronud_truth = torch.zeros_like(disc_pred)\n",
        "  loss = criterion(disc_pred, gronud_truth)\n",
        "  return loss"
      ],
      "metadata": {
        "id": "r0gjAYnw_WvQ"
      },
      "execution_count": 21,
      "outputs": []
    },
    {
      "cell_type": "code",
      "source": [
        "D_opt = torch.optim.AdamW(D.parameters(), lr = lr, betas = (beta_1, beta_2))\n",
        "G_opt = torch.optim.AdamW(G.parameters(), lr = lr, betas = (beta_1, beta_2))"
      ],
      "metadata": {
        "id": "N_AgYF0y_Ywc"
      },
      "execution_count": 25,
      "outputs": []
    },
    {
      "cell_type": "code",
      "source": [
        "def train_function(num_epochs):\n",
        "  for i in range(num_epochs):\n",
        "    d_loss = 0.0\n",
        "    g_loss = 0.0\n",
        "\n",
        "    for real_images, _ in train_loader:\n",
        "      real_images = real_images.to(device)\n",
        "      noise = torch.randn(batch_size, noise_dimension, device = device)\n",
        "\n",
        "      D_opt.zero_grad()\n",
        "\n",
        "      fake_images = G(noise)\n",
        "      D_pred = D(fake_images)\n",
        "      D_fake_loss = fake_label(D_pred)\n",
        "\n",
        "      D_pred = D(real_images)\n",
        "      D_real_loss = real_label(D_pred)\n",
        "\n",
        "      D_loss = (D_fake_loss + D_real_loss) / 2\n",
        "      d_loss += D_loss.item()\n",
        "      D_loss.backward()\n",
        "      D_opt.step()\n",
        "\n",
        "      G_opt.zero_grad()\n",
        "\n",
        "      noise = torch.randn(batch_size, noise_dimension, device = device)\n",
        "      fake_images = G(noise)\n",
        "      D_pred = D(fake_images)\n",
        "      G_loss = real_label(D_pred)\n",
        "      g_loss += G_loss.item()\n",
        "\n",
        "      G_loss.backward()\n",
        "      G_opt.step()\n",
        "\n",
        "    avg_d_loss = d_loss / len(train_loader)\n",
        "    avg_g_loss = g_loss / len(train_loader)\n",
        "    print(\"Epoch : {} | D_loss : {} | G_loss : {}\".format(i+1, avg_d_loss, avg_g_loss))\n",
        "\n",
        "train_function(epochs)"
      ],
      "metadata": {
        "colab": {
          "base_uri": "https://localhost:8080/"
        },
        "id": "-zl4hVRi_aUU",
        "outputId": "73d949ad-771f-4ae3-f984-6b3f29ed6509"
      },
      "execution_count": 26,
      "outputs": [
        {
          "output_type": "stream",
          "name": "stdout",
          "text": [
            "Epoch : 1 | D_loss : 0.6727491769709313 | G_loss : 0.6964882983327675\n",
            "Epoch : 2 | D_loss : 0.6687974369347985 | G_loss : 0.7189224453877284\n",
            "Epoch : 3 | D_loss : 0.67927470835033 | G_loss : 0.7097447841152199\n",
            "Epoch : 4 | D_loss : 0.6750299858131896 | G_loss : 0.7181012048395966\n",
            "Epoch : 5 | D_loss : 0.6668362775082781 | G_loss : 0.7306177394984882\n",
            "Epoch : 6 | D_loss : 0.657844174391171 | G_loss : 0.7457501548948064\n",
            "Epoch : 7 | D_loss : 0.6450859425164489 | G_loss : 0.76792095172634\n",
            "Epoch : 8 | D_loss : 0.6314519812811666 | G_loss : 0.7939575680537518\n",
            "Epoch : 9 | D_loss : 0.6175664969598815 | G_loss : 0.8232113419056956\n",
            "Epoch : 10 | D_loss : 0.6076417269228872 | G_loss : 0.8455437579388811\n",
            "Epoch : 11 | D_loss : 0.6004961229590718 | G_loss : 0.8670439959080742\n",
            "Epoch : 12 | D_loss : 0.591054752818557 | G_loss : 0.8902347143779177\n",
            "Epoch : 13 | D_loss : 0.5834019167591006 | G_loss : 0.9115590901771334\n",
            "Epoch : 14 | D_loss : 0.5766706933090682 | G_loss : 0.9303869981247225\n",
            "Epoch : 15 | D_loss : 0.5683913837109548 | G_loss : 0.9518124576824815\n",
            "Epoch : 16 | D_loss : 0.5622215135011084 | G_loss : 0.9656696319580078\n",
            "Epoch : 17 | D_loss : 0.5578145030210776 | G_loss : 0.9861108201907388\n",
            "Epoch : 18 | D_loss : 0.5548073477201116 | G_loss : 0.9990883470852492\n",
            "Epoch : 19 | D_loss : 0.5506353134920856 | G_loss : 1.0174226810428888\n",
            "Epoch : 20 | D_loss : 0.5498217481539956 | G_loss : 1.0265018622249937\n"
          ]
        }
      ]
    },
    {
      "cell_type": "code",
      "source": [
        "noise = torch.randn(batch_size, noise_dimension, device = device)\n",
        "generated_image = G(noise)\n",
        "\n",
        "show_images(generated_image)"
      ],
      "metadata": {
        "colab": {
          "base_uri": "https://localhost:8080/",
          "height": 452
        },
        "id": "4a28CHZl_dQ7",
        "outputId": "0119bcd0-80b3-4631-ea1c-a079e6d51af6"
      },
      "execution_count": 27,
      "outputs": [
        {
          "output_type": "stream",
          "name": "stderr",
          "text": [
            "WARNING:matplotlib.image:Clipping input data to the valid range for imshow with RGB data ([0..1] for floats or [0..255] for integers).\n"
          ]
        },
        {
          "output_type": "display_data",
          "data": {
            "text/plain": [
              "<Figure size 640x480 with 1 Axes>"
            ],
            "image/png": "[encoded data removed]"
          },
          "metadata": {}
        }
      ]
    }
  ]
}